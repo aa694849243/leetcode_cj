{
 "cells": [
  {
   "cell_type": "code",
   "execution_count": null,
   "outputs": [
    {
     "name": "stdout",
     "output_type": "stream",
     "text": [
      "Python 3.7.9 (default, Aug 31 2020, 17:10:11) [MSC v.1916 64 bit (AMD64)]\n",
      "Type 'copyright', 'credits' or 'license' for more information\n",
      "IPython 7.18.1 -- An enhanced Interactive Python. Type '?' for help.\n",
      "PyDev console: using IPython 7.18.1\n",
      "\n",
      "Python 3.7.9 (default, Aug 31 2020, 17:10:11) [MSC v.1916 64 bit (AMD64)] on win32\n",
      "ERROR! Session/line number was not unique in database. History logging moved to new session 1529\n"
     ]
    }
   ],
   "source": [
    "class trie:\n",
    "    def __init__(self):\n",
    "        self.look = {}\n",
    "\n",
    "    def insert(self, s):\n",
    "        tree = self.look\n",
    "        if not s:\n",
    "            tree[''] = '$'\n",
    "        for ch in s:\n",
    "            if ch not in tree:\n",
    "                tree[ch] = {}\n",
    "            tree = tree[ch]\n",
    "        tree['$'] = '$'\n",
    "\n",
    "    def search(self, s):\n",
    "        if not s:\n",
    "            return '' in self.look\n",
    "        tree = self.look\n",
    "        for ch in s:\n",
    "            if ch not in tree:\n",
    "                return False\n",
    "            tree = tree[ch]\n",
    "        return '$' in tree\n",
    "\n",
    "from typing import List\n",
    "class Solution:\n",
    "    def findAllConcatenatedWordsInADict(self, words: List[str]) -> List[str]:\n",
    "        words.sort(key=len)\n",
    "        m = trie()\n",
    "\n",
    "        def check(word):\n",
    "            if not word:\n",
    "                return True\n",
    "            ans = False\n",
    "            for i in range(len(word)):\n",
    "                if m.search(word[:i + 1]):\n",
    "                    ans = check(word[i + 1:])\n",
    "            return ans\n",
    "\n",
    "        res = []\n",
    "        for word in words:\n",
    "            if not word:\n",
    "                continue\n",
    "            if check(word):\n",
    "                res.append(word)\n",
    "            m.insert(word)\n",
    "        return res\n",
    "Solution().findAllConcatenatedWordsInADict([\"cat\",\"cats\",\"catsdogcats\",\"dog\",\"dogcatsdog\",\"hippopotamuses\",\"rat\",\"ratcatdogcat\"])\n"
   ],
   "metadata": {
    "collapsed": false,
    "pycharm": {
     "name": "#%%\n",
     "is_executing": true
    }
   }
  },
  {
   "cell_type": "code",
   "execution_count": null,
   "outputs": [],
   "source": [],
   "metadata": {
    "collapsed": false,
    "pycharm": {
     "name": "#%%\n"
    }
   }
  }
 ],
 "metadata": {
  "kernelspec": {
   "name": "pycharm-155d75a4",
   "language": "python",
   "display_name": "PyCharm (learn)"
  },
  "language_info": {
   "codemirror_mode": {
    "name": "ipython",
    "version": 2
   },
   "file_extension": ".py",
   "mimetype": "text/x-python",
   "name": "python",
   "nbconvert_exporter": "python",
   "pygments_lexer": "ipython2",
   "version": "2.7.6"
  },
  "pycharm": {
   "stem_cell": {
    "cell_type": "raw",
    "source": [
     "\n"
    ],
    "metadata": {
     "collapsed": false
    }
   }
  }
 },
 "nbformat": 4,
 "nbformat_minor": 0
}