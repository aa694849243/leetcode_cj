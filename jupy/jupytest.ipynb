{
 "cells": [
  {
   "cell_type": "code",
   "execution_count": 4,
   "outputs": [],
   "source": [
    "class Solution:\n",
    "    def superpalindromesInRange(self, left: str, right: str) -> int:\n",
    "        L = len(left)\n",
    "        R = len(right)\n",
    "        l = L // 2 + 1\n",
    "        r = min(R // 2 + 1, 9)\n",
    "        odd, even = 0, 0\n",
    "        s = max(l // 2, 1)\n",
    "        e = r // 2 + 1\n",
    "\n",
    "        def isPalindrome(s):\n",
    "            return s == s[::-1]\n",
    "\n",
    "        def ge(x, y):\n",
    "            if len(x) > len(y):\n",
    "                return True\n",
    "            elif len(x) == len(y):\n",
    "                return x >= y\n",
    "            else:\n",
    "                return False\n",
    "\n",
    "        for x in range(10 ** (s - 1), 10 ** e - 1):\n",
    "            a = str(x)\n",
    "            a_a = a + a[:-1][::-1]  # odd型\n",
    "            aa = a + a[::-1]  # even型\n",
    "            a_a2 = str(int(a_a) ** 2)\n",
    "            aa2 = str(int(aa) ** 2)\n",
    "            if ge(a_a2, left) and ge(right, a_a2):\n",
    "                if isPalindrome(a_a2):\n",
    "                    odd += 1\n",
    "            if ge(aa2, left) and ge(right, aa2):\n",
    "                if isPalindrome(aa2):\n",
    "                    even += 1\n",
    "        return odd + even\n",
    "\n",
    "\n",
    "Solution().superpalindromesInRange(\"111\", \"231\")\n"
   ],
   "metadata": {
    "collapsed": false,
    "pycharm": {
     "name": "#%%\n"
    }
   }
  },
  {
   "cell_type": "code",
   "execution_count": null,
   "outputs": [],
   "source": [],
   "metadata": {
    "collapsed": false,
    "pycharm": {
     "name": "#%%\n"
    }
   }
  }
 ],
 "metadata": {
  "kernelspec": {
   "name": "pycharm-155d75a4",
   "language": "python",
   "display_name": "PyCharm (learn)"
  },
  "language_info": {
   "codemirror_mode": {
    "name": "ipython",
    "version": 3
   },
   "file_extension": ".py",
   "mimetype": "text/x-python",
   "name": "python",
   "nbconvert_exporter": "python",
   "pygments_lexer": "ipython3",
   "version": "3.7.10"
  },
  "pycharm": {
   "stem_cell": {
    "cell_type": "raw",
    "source": [
     "\n",
     "\n"
    ],
    "metadata": {
     "collapsed": false
    }
   }
  }
 },
 "nbformat": 4,
 "nbformat_minor": 1
}